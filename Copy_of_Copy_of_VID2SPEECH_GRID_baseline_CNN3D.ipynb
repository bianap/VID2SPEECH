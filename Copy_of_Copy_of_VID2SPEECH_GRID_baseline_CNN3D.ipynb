{
  "nbformat": 4,
  "nbformat_minor": 0,
  "metadata": {
    "colab": {
      "name": "Copy of Copy of VID2SPEECH_GRID_baseline_CNN3D.ipynb",
      "version": "0.3.2",
      "provenance": [],
      "collapsed_sections": []
    },
    "kernelspec": {
      "name": "python3",
      "display_name": "Python 3"
    },
    "accelerator": "GPU"
  },
  "cells": [
    {
      "metadata": {
        "id": "J3qIZEjgTfAG",
        "colab_type": "text"
      },
      "cell_type": "markdown",
      "source": [
        "in order to run deep learning experiments on GPU, you will have to change the runtime to GPU this way:\n",
        "\n",
        "top menu: Runtime / Change runtime type / Hardware accelerator: GPU\n",
        "\n"
      ]
    },
    {
      "metadata": {
        "id": "21HcJC-tTii7",
        "colab_type": "code",
        "outputId": "84302336-f8f1-48ba-a538-fcd40740982c",
        "colab": {
          "base_uri": "https://localhost:8080/",
          "height": 692
        }
      },
      "cell_type": "code",
      "source": [
        "# install requirements:\n",
        "#  SPTK for speech synthesis,\n",
        "#  SoX for sound conversion,\n",
        "#  PySPTK for spectrogram\n",
        "!apt install sptk\n",
        "!apt install sox\n",
        "!pip3 install pysptk"
      ],
      "execution_count": 2,
      "outputs": [
        {
          "output_type": "stream",
          "text": [
            "Reading package lists... Done\n",
            "Building dependency tree       \n",
            "Reading state information... Done\n",
            "sptk is already the newest version (3.9-1).\n",
            "The following package was automatically installed and is no longer required:\n",
            "  libnvidia-common-410\n",
            "Use 'apt autoremove' to remove it.\n",
            "0 upgraded, 0 newly installed, 0 to remove and 10 not upgraded.\n",
            "Reading package lists... Done\n",
            "Building dependency tree       \n",
            "Reading state information... Done\n",
            "The following package was automatically installed and is no longer required:\n",
            "  libnvidia-common-410\n",
            "Use 'apt autoremove' to remove it.\n",
            "The following additional packages will be installed:\n",
            "  libmagic-mgc libmagic1 libopencore-amrnb0 libopencore-amrwb0 libsox-fmt-alsa\n",
            "  libsox-fmt-base libsox3\n",
            "Suggested packages:\n",
            "  file libsox-fmt-all\n",
            "The following NEW packages will be installed:\n",
            "  libmagic-mgc libmagic1 libopencore-amrnb0 libopencore-amrwb0 libsox-fmt-alsa\n",
            "  libsox-fmt-base libsox3 sox\n",
            "0 upgraded, 8 newly installed, 0 to remove and 10 not upgraded.\n",
            "Need to get 253 kB/760 kB of archives.\n",
            "After this operation, 6,711 kB of additional disk space will be used.\n",
            "Ign:1 http://archive.ubuntu.com/ubuntu bionic-updates/main amd64 libmagic-mgc amd64 1:5.32-2ubuntu0.1\n",
            "Ign:2 http://archive.ubuntu.com/ubuntu bionic-updates/main amd64 libmagic1 amd64 1:5.32-2ubuntu0.1\n",
            "Err:1 http://security.ubuntu.com/ubuntu bionic-updates/main amd64 libmagic-mgc amd64 1:5.32-2ubuntu0.1\n",
            "  404  Not Found [IP: 91.189.88.161 80]\n",
            "Err:2 http://security.ubuntu.com/ubuntu bionic-updates/main amd64 libmagic1 amd64 1:5.32-2ubuntu0.1\n",
            "  404  Not Found [IP: 91.189.88.161 80]\n",
            "E: Failed to fetch http://security.ubuntu.com/ubuntu/pool/main/f/file/libmagic-mgc_5.32-2ubuntu0.1_amd64.deb  404  Not Found [IP: 91.189.88.161 80]\n",
            "E: Failed to fetch http://security.ubuntu.com/ubuntu/pool/main/f/file/libmagic1_5.32-2ubuntu0.1_amd64.deb  404  Not Found [IP: 91.189.88.161 80]\n",
            "E: Unable to fetch some archives, maybe run apt-get update or try with --fix-missing?\n",
            "Requirement already satisfied: pysptk in /usr/local/lib/python3.6/dist-packages (0.1.16)\n",
            "Requirement already satisfied: decorator in /usr/local/lib/python3.6/dist-packages (from pysptk) (4.4.0)\n",
            "Requirement already satisfied: scipy in /usr/local/lib/python3.6/dist-packages (from pysptk) (1.1.0)\n",
            "Requirement already satisfied: six in /usr/local/lib/python3.6/dist-packages (from pysptk) (1.11.0)\n",
            "Requirement already satisfied: numpy>=1.8.2 in /usr/local/lib/python3.6/dist-packages (from scipy->pysptk) (1.14.6)\n"
          ],
          "name": "stdout"
        }
      ]
    },
    {
      "metadata": {
        "id": "cwvqUwl5Tm-Q",
        "colab_type": "code",
        "outputId": "bf6e82b3-05c5-4061-97b4-45b681a17824",
        "colab": {
          "base_uri": "https://localhost:8080/",
          "height": 54
        }
      },
      "cell_type": "code",
      "source": [
        "# mount my own google drive\n",
        "from google.colab import drive\n",
        "drive.mount('/content/gdrive')"
      ],
      "execution_count": 3,
      "outputs": [
        {
          "output_type": "stream",
          "text": [
            "Drive already mounted at /content/gdrive; to attempt to forcibly remount, call drive.mount(\"/content/gdrive\", force_remount=True).\n"
          ],
          "name": "stdout"
        }
      ]
    },
    {
      "metadata": {
        "id": "ETH5LglsUTK0",
        "colab_type": "code",
        "outputId": "e7ba777f-2cd9-491f-d5bf-8fd51e355240",
        "colab": {
          "base_uri": "https://localhost:8080/",
          "height": 877
        }
      },
      "cell_type": "code",
      "source": [
        "# check contents of my google drive\n",
        "import os\n",
        "os.chdir(\"/content/gdrive/My Drive/\")\n",
        "!ls -al"
      ],
      "execution_count": 4,
      "outputs": [
        {
          "output_type": "stream",
          "text": [
            "total 396608\n",
            "-rw------- 1 root root   1366740 Jul 13  2015 '2008.12.21 letöltés 001.jpg'\n",
            "drwx------ 3 root root      4096 Dec  1 19:30  2017-2018-2019\n",
            "-rw------- 1 root root  41419490 Sep  9  2018  358986411-keynote-upper-intermediate-student-s-book-pdf.pdf\n",
            "drwx------ 3 root root      4096 Feb  6  2018  4.félév\n",
            "-rw------- 1 root root         1 Jan 25 15:40 '6. félév órarend.gsheet'\n",
            "drwx------ 2 root root      4096 Dec 14  2017 'Ádám meglepi'\n",
            "drwx------ 2 root root      4096 Mar  3 10:50  BEST\n",
            "drwx------ 2 root root      4096 May  2  2018 'Bogi '\n",
            "drwx------ 2 root root      4096 Feb 23  2018  boldi_angyalai\n",
            "-rw------- 1 root root         1 Dec  7 16:09 'BSc szakmai gyakorlat 2018 @ Morgan Stanley.gsheet'\n",
            "drwx------ 2 root root      4096 Sep 13  2018  Classroom\n",
            "drwx------ 2 root root      4096 Nov 23 12:29 'Colab Notebooks'\n",
            "drwx------ 2 root root      4096 Jul 13  2015 'Családi képek'\n",
            "drwx------ 2 root root      4096 Mar  1 17:14 'Dani felvételi'\n",
            "drwx------ 3 root root      4096 Mar 27 19:38  deep_learning_VID2SPEECH\n",
            "drwx------ 2 root root      4096 Dec  9 11:48  DL\n",
            "drwx------ 2 root root      4096 Mar 27  2018 'Dokumentumok '\n",
            "drwx------ 2 root root      4096 Feb  2  2018  Érettségi\n",
            "-rw------- 1 root root         1 Jan 30  2018  Geocaching.gsheet\n",
            "-rw------- 1 root root   1374273 May  2  2015  IMG_20150502_190500.jpg\n",
            "-rw------- 1 root root   1409601 May  2  2015  IMG_20150502_190504.jpg\n",
            "-rw------- 1 root root   1420993 Dec 14  2017  IMG_20170624_181337.jpg\n",
            "-rw------- 1 root root   5107561 Dec 14  2017  IMG_20170829_065413.jpg\n",
            "-rw------- 1 root root   1160901 Dec 14  2017  IMG_20171023_111943.jpg\n",
            "drwx------ 2 root root      4096 Jun 20  2018  Infografika\n",
            "drwx------ 2 root root      4096 Jun 21  2018  Jegyek\n",
            "-rw------- 1 root root  47345603 Mar 10  2016  KÉSZ.wmv\n",
            "drwx------ 2 root root      4096 Jan 30 13:42  Kiadások\n",
            "drwx------ 3 root root      4096 Nov  6 11:07  Kódtech_Bia\n",
            "drwx------ 2 root root      4096 Mar 27 10:56  Linux_lab\n",
            "-rw------- 1 root root 266010624 Mar  1  2014  M2U00640.MPG\n",
            "drwx------ 2 root root      4096 Jun 12  2018  Meglepi\n",
            "-rw------- 1 root root         1 Oct 10 14:57 'MI elméleti kérdések (visszaállítva) (1).gdoc'\n",
            "-rw------- 1 root root         1 Nov 23 15:30 'MI elméleti kérdések (visszaállítva).gdoc'\n",
            "drwx------ 2 root root      4096 Jun 29  2018 'Morgan Stanley'\n",
            "drwx------ 2 root root      4096 Jul 21  2018 'NaTE '\n",
            "-rw------- 1 root root         1 Feb 17 15:16 'Névtelen dokumentum.gdoc'\n",
            "drwx------ 2 root root      4096 Feb  3 18:55  Önlab\n",
            "-rw------- 1 root root         1 Feb  2  2018 'Órarend 4 . félév.gsheet'\n",
            "-rw------- 1 root root         1 Feb  7  2018 'Ötletek (1).gsheet'\n",
            "-rw------- 1 root root         1 Dec 21  2017  Ötletek.gsheet\n",
            "drwx------ 2 root root      4096 Nov 22  2017  Prog3\n",
            "-rw------- 1 root root   3635346 Feb 14  2018  Projlab_dokumentacio.pdf\n",
            "drwx------ 2 root root      4096 Dec 15 07:57  Repjegy\n",
            "-rw------- 1 root root         1 Mar  2 20:45 'Sugár fitness értékelés .gsheet'\n",
            "-rw------- 1 root root  35759875 Feb 16  2017 'SZLG kenutábor 2016.mp4'\n",
            "drwx------ 2 root root      4096 Nov 23 13:04  Temalabor\n",
            "-rw------- 1 root root         1 Nov 20  2017 'Two mini mano.gdoc'\n",
            "-rw------- 1 root root         1 Feb  5 16:00 'Workshop Dalila-val.gform'\n"
          ],
          "name": "stdout"
        }
      ]
    },
    {
      "metadata": {
        "id": "D3rAk-oRUUp8",
        "colab_type": "code",
        "outputId": "9a601dbd-65e2-40ef-ddcf-87729aa97c47",
        "colab": {
          "base_uri": "https://localhost:8080/",
          "height": 34
        }
      },
      "cell_type": "code",
      "source": [
        "# create new folder for output\n",
        "dir_output = \"/content/gdrive/My Drive/deep_learning_VID2SPEECH/\"\n",
        "if not os.path.exists(dir_output):\n",
        "  os.mkdir(dir_output)\n",
        "os.chdir(dir_output)\n",
        "!pwd"
      ],
      "execution_count": 5,
      "outputs": [
        {
          "output_type": "stream",
          "text": [
            "/content/gdrive/My Drive/deep_learning_VID2SPEECH\n"
          ],
          "name": "stdout"
        }
      ]
    },
    {
      "metadata": {
        "id": "V15PzuYSUhgt",
        "colab_type": "text"
      },
      "cell_type": "markdown",
      "source": [
        "---\n",
        "\n",
        "functions that will be used later\n"
      ]
    },
    {
      "metadata": {
        "id": "hWpvmBuwUjds",
        "colab_type": "code",
        "colab": {}
      },
      "cell_type": "code",
      "source": [
        "\n",
        "\n",
        "from subprocess import run\n",
        "import numpy as np\n",
        "import scipy.io.wavfile as io_wav\n",
        "\n",
        "def encode(basefilename, Fs_new = 11050, frlen = 512, frshft = 200, order = 12, alpha = 0.42, stage = 3, minF0 = 50, maxF0 = 400):\n",
        "\n",
        "    # from HTS Makefile\n",
        "    # $(X2X) +sf $${raw} | $(PITCH) -H $(UPPERF0) -L $(LOWERF0) -p $(FRAMESHIFT) -s $${SAMPKHZ} -o 2 > lf0/$${base}.lf0\n",
        "    #\n",
        "    # $(X2X) +sf $${raw} | \\\n",
        "    # $(FRAME) -l $(FRAMELEN) -p $(FRAMESHIFT) | \\\n",
        "    # $(WINDOW) -l $(FRAMELEN) -L $(FFTLEN) -w $(WINDOWTYPE) -n $(NORMALIZE) | \\\n",
        "    # $(MGCEP) -a $(FREQWARP) -c $(GAMMA) -m $(MGCORDER) -l $(FFTLEN) -e 1.0E-08 -o 4 | \\\n",
        "    # $(LPC2LSP) -m $(MGCORDER) -s $${SAMPKHZ} $${GAINOPT} -n $(FFTLEN) -p 8 -d 1.0E-08 > mgc/$${base}.mgc; \\\n",
        "\n",
        "    # calculate MGC-LSP\n",
        "    command = 'sox \"' + basefilename + '.wav\"' + ' -t raw -r ' + str(Fs_new) + ' - ' + ' | sptk x2x +sf | ' + \\\n",
        "              'sptk frame -l ' + str(frlen) + ' -p ' + str(frshft) + ' | ' + \\\n",
        "              'sptk window -l ' + str(frlen) + ' -L ' + str(frlen) + ' -w 0 -n 1 | ' + \\\n",
        "              'sptk mgcep -a ' + str(alpha) + ' -c ' + str(stage) + ' -m ' + str(order) + ' -l ' + str(frlen) + ' -e 1.0E-08 -o 4 | ' + \\\n",
        "              'sptk lpc2lsp -m ' + str(order) + ' -s ' + str(Fs_new / 1000) + ' -n ' + str(frlen) + ' -p 8 -d 1.0E-08 > \"' + basefilename + '.mgclsp\"'\n",
        "    # print(command)\n",
        "    run(command, shell=True)\n",
        "\n",
        "    # estimate pitch using SWIPE\n",
        "    command = 'sox \"' + basefilename + '.wav\"' + ' -t raw -r ' + str(Fs_new) + ' - ' + ' | sptk x2x +sf | ' + \\\n",
        "              'sptk pitch -a 1 -H ' + str(maxF0) + ' -L ' + str(minF0) + ' -p ' + str(frshft) + ' -s ' + str(Fs_new / 1000) + ' -o 2 > \"' + basefilename + '.lf0\"'\n",
        "    # print(command)\n",
        "    run(command, shell=True)\n",
        "    \n",
        "    # read files for output\n",
        "    mgc_lsp_coeff = np.fromfile(basefilename + '.mgclsp', dtype=np.float32).reshape(-1, order + 1)\n",
        "    lf0 = np.fromfile(basefilename + '.lf0', dtype=np.float32)\n",
        "\n",
        "    return (mgc_lsp_coeff, lf0) \n",
        "\n"
      ],
      "execution_count": 0,
      "outputs": []
    },
    {
      "metadata": {
        "id": "VIA11bVS74yd",
        "colab_type": "code",
        "colab": {}
      },
      "cell_type": "code",
      "source": [
        "import scipy.io.wavfile as io_wav\n",
        "\n",
        "def decode(mgc_lsp_coeff, lf0, basefilename_out, Fs = 11050, frlen = 512, frshft = 200, order = 12, alpha = 0.42, stage = 3):\n",
        "    \n",
        "    # from HTS Training.pl / gen_wave\n",
        "    #\n",
        "    # MGC-LSPs -> MGC coefficients\n",
        "    # $line = \"$LSPCHECK -m \" . ( $ordr{'mgc'} - 1 ) . \" -s \" . ( $sr / 1000 ) . \" $lgopt -c -r 0.1 -g -G 1.0E-10 $mgc | \";\n",
        "    # $line .= \"$LSP2LPC -m \" . ( $ordr{'mgc'} - 1 ) . \" -s \" . ( $sr / 1000 ) . \" $lgopt | \";\n",
        "    # $line .= \"$MGC2MGC -m \" . ( $ordr{'mgc'} - 1 ) . \" -a $fw -c $gm -n -u -M \" . ( $ordr{'mgc'} - 1 ) . \" -A $fw -C $gm \" . \" > $gendir/$base.c_mgc\";\n",
        "    # shell($line);\n",
        "    #\n",
        "    # $line = \"$SOPR -magic -1.0E+10 -EXP -INV -m $sr -MAGIC 0.0 $lf0 > $gendir/${base}.pit\";\n",
        "    #\n",
        "    # $line = \"$EXCITE -n -p $fs $gendir/$base.pit | \";\n",
        "    # $line .= \"$DFS -b $lfil | $VOPR -a $gendir/$base.unv | \";\n",
        "    # $line .= \"$MGLSADF -P 5 -m \" . ( $ordr{'mgc'} - 1 ) . \" -p $fs -a $fw -c $gm $mgc | \";\n",
        "    # $line .= \"$X2X +fs -o > $gendir/$base.raw\";\n",
        "    # shell($line);\n",
        "    \n",
        "    # write files for SPTK\n",
        "    mgc_lsp_coeff.astype('float32').tofile(basefilename_out + '.mgclsp')\n",
        "    lf0.astype('float32').tofile(basefilename_out + '.lf0')\n",
        "    \n",
        "    # MGC-LSPs -> MGC coefficients\n",
        "    command = 'sptk lspcheck -m ' + str(order) + ' -s ' + str(Fs / 1000) + ' -c -r 0.1 -g -G 1.0E-10 \"' + basefilename_out + '.mgclsp\"' + ' | ' + \\\n",
        "              'sptk lsp2lpc -m '  + str(order) + ' -s ' + str(Fs / 1000) + ' | ' + \\\n",
        "              'sptk mgc2mgc -m '  + str(order) + ' -a ' + str(alpha) + ' -c ' + str(stage) + ' -n -u ' + \\\n",
        "                      '-M '  + str(order) + ' -A ' + str(alpha) + ' -C ' + str(stage) + ' > \"' + basefilename_out + '.mgc\"'\n",
        "   # print(command)\n",
        "    test = run(command, shell=True)\n",
        "    print(test)\n",
        "    # MGLSADF synthesis based on pitch and MGC coefficients\n",
        "    command = 'sptk sopr -magic -1.0E+10 -EXP -INV -m ' + str(Fs) + ' -MAGIC 0.0 \"' + basefilename_out + '.lf0\"' + ' | ' + \\\n",
        "              'sptk excite -n -p ' + str(frshft) + ' | ' + \\\n",
        "              'sptk mglsadf -P 5 -m ' + str(order) + ' -p ' + str(frshft) + ' -a ' + str(alpha) + ' -c ' + str(stage) + ' \"' + basefilename_out + '.mgc\"' + ' | ' + \\\n",
        "              'sptk x2x +fs -o | sox -c 1 -b 16 -e signed-integer -t raw -r ' + str(Fs) + ' -t wav -r ' + str(Fs) + ' \"' + basefilename_out + '.wav\"'\n",
        "    # print(command)\n",
        "    test2 = run(command, shell=True)\n",
        "    print(test2)\n",
        "    # read file for output\n",
        "    (Fs_out, x_synthesized) = scipy.io.wavfile.read(basefilename_out + '.wav')\n",
        "    \n",
        "    return x_synthesized\n"
      ],
      "execution_count": 0,
      "outputs": []
    },
    {
      "metadata": {
        "id": "1BpA3_Kn6018",
        "colab_type": "text"
      },
      "cell_type": "markdown",
      "source": [
        ""
      ]
    },
    {
      "metadata": {
        "id": "0JdrN4RgUmK_",
        "colab_type": "code",
        "outputId": "761f8ede-1299-40ab-d5ce-bd9fa5b67aa2",
        "colab": {
          "base_uri": "https://localhost:8080/",
          "height": 34
        }
      },
      "cell_type": "code",
      "source": [
        "# from LIP_SSI_DNN_GRID.py\n",
        "\n",
        "# required modules\n",
        "import numpy as np\n",
        "import matplotlib.pyplot as plt\n",
        "import scipy.io.wavfile as io_wav\n",
        "import os\n",
        "import os.path\n",
        "import gc\n",
        "import re\n",
        "import csv\n",
        "import datetime\n",
        "import scipy\n",
        "import pickle\n",
        "import cv2\n",
        "\n",
        "from keras.models import Sequential\n",
        "from keras.layers import Dense\n",
        "from keras.callbacks import EarlyStopping, CSVLogger\n",
        "\n",
        "from sklearn.pipeline import Pipeline\n",
        "from sklearn.model_selection import train_test_split\n",
        "from sklearn.preprocessing import StandardScaler, MinMaxScaler\n",
        "from sklearn.decomposition import PCA, IncrementalPCA"
      ],
      "execution_count": 8,
      "outputs": [
        {
          "output_type": "stream",
          "text": [
            "Using TensorFlow backend.\n"
          ],
          "name": "stderr"
        }
      ]
    },
    {
      "metadata": {
        "id": "fQKbeZWXVCYb",
        "colab_type": "code",
        "colab": {}
      },
      "cell_type": "code",
      "source": [
        "# from LipReading\n",
        "################## VIDEO INPUT WITH DIFF ##################\n",
        "def load_video_3D(path):\n",
        "    \n",
        "    cap = cv2.VideoCapture(path)\n",
        "    frameCount = THRESH_FRAME_COUNT\n",
        "    frameHeight=int(cap.get(cv2.CAP_PROP_FRAME_HEIGHT ))\n",
        "    frameWidth=int(cap.get(cv2.CAP_PROP_FRAME_WIDTH ))\n",
        "\n",
        "    buf =np.empty((frameHeight, frameWidth, frameCount), np.dtype('float32'))\n",
        "    fc = 0\n",
        "    ret = True\n",
        "    \n",
        "    while (fc < frameCount  and ret):\n",
        "        ret, frame = cap.read()\n",
        "        frame=cv2.cvtColor(frame, cv2.COLOR_BGR2GRAY)\n",
        "        frame=frame.astype('float32')\n",
        "        #frame = frame-np.mean(frame)\n",
        "        #frame = frame/np.std(frame)\n",
        "        frame = frame-np.amin(frame)\n",
        "        frame = frame/np.amax(frame)\n",
        "        buf[:,:,fc]=frame\n",
        "        fc += 1\n",
        "    cap.release()\n",
        "\n",
        "    return buf"
      ],
      "execution_count": 0,
      "outputs": []
    },
    {
      "metadata": {
        "id": "COeAtByrVHvM",
        "colab_type": "code",
        "colab": {}
      },
      "cell_type": "code",
      "source": [
        "def get_mgc_lsp_coeff(basefilename):\n",
        "    if os.path.isfile(basefilename + '.mgclsp'):\n",
        "        mgc_lsp_coeff = np.fromfile(basefilename + '.mgclsp', dtype=np.float32).reshape(-1, order + 1)\n",
        "        lf0 = np.fromfile(basefilename + '.lf0', dtype=np.float32)\n",
        "    else:\n",
        "        Fs_new = 8000\n",
        "        (mgc_lsp_coeff, lf0) = encode(basefilename, Fs_new, frameLength, frameShift, order, alpha, stage)\n",
        "    return (mgc_lsp_coeff, lf0)\n"
      ],
      "execution_count": 0,
      "outputs": []
    },
    {
      "metadata": {
        "id": "-3TIhBz6VQ2-",
        "colab_type": "code",
        "outputId": "4a4ed7c5-e980-48c2-bc5c-c610d4474de1",
        "colab": {
          "base_uri": "https://localhost:8080/",
          "height": 67
        }
      },
      "cell_type": "code",
      "source": [
        "# download data and extract\n",
        "if not os.path.isfile('GRID_s3_cut.tar.gz'):\n",
        "  !wget http://smartlab.tmit.bme.hu/csapo/GRID/GRID_s3_cut.tar.gz\n",
        "  !tar -xzvf GRID_s3_cut.tar.gz\n",
        "!ls -al GRID/"
      ],
      "execution_count": 11,
      "outputs": [
        {
          "output_type": "stream",
          "text": [
            "total 8\n",
            "drwx------ 3 root root 4096 Feb 19 14:57 Audio\n",
            "drwx------ 3 root root 4096 Feb 19 14:57 Video\n"
          ],
          "name": "stdout"
        }
      ]
    },
    {
      "metadata": {
        "id": "ckcdRF4hVWIu",
        "colab_type": "code",
        "colab": {}
      },
      "cell_type": "code",
      "source": [
        "# TODO: modify this according to your data path\n",
        "speaker = 's3'\n",
        "dir_video = dir_output + 'GRID/Video/' + speaker + '/face/'\n",
        "dir_audio = dir_output + 'GRID/Audio/' + speaker + '/'\n"
      ],
      "execution_count": 0,
      "outputs": []
    },
    {
      "metadata": {
        "id": "NEg52pyxWJ6t",
        "colab_type": "code",
        "colab": {}
      },
      "cell_type": "code",
      "source": [
        "# Parameters of vocoder\n",
        "samplingFrequency = 8000\n",
        "frameLength = 1024 # 93 ms at 22050 Hz sampling\n",
        "frameShift = 320 # 40 ms at 8000 Hz sampling, correspondong to 25 fps (lip video)\n",
        "order = 12\n",
        "alpha = 0.42\n",
        "stage = 3\n",
        "THRESH_FRAME_COUNT = 75"
      ],
      "execution_count": 0,
      "outputs": []
    },
    {
      "metadata": {
        "id": "Cukc3kFsWM3N",
        "colab_type": "code",
        "colab": {}
      },
      "cell_type": "code",
      "source": [
        "n_files = 100\n",
        "n_file = 0\n",
        "n_max_lip_frames = n_files * THRESH_FRAME_COUNT\n",
        "n_lines = 128\n",
        "n_pixels = 128\n",
        "n_lines_reduced = 128\n",
        "n_pixels_reduced = 128\n",
        "n_mgc = order + 1\n",
        "n_lip = n_lines_reduced * n_pixels_reduced\n",
        "n_pca = 200\n",
        "lip = np.empty((n_max_lip_frames, n_lip))\n",
        "mgc = np.empty((n_max_lip_frames, n_mgc))\n",
        "lip_size = 0\n",
        "mgc_size = 0\n",
        "NFRAMES = 4\n",
        "COLORS = 1\n",
        "CHANNELS = COLORS*NFRAMES"
      ],
      "execution_count": 0,
      "outputs": []
    },
    {
      "metadata": {
        "id": "YbEL1kGVHD-5",
        "colab_type": "code",
        "colab": {}
      },
      "cell_type": "code",
      "source": [
        "train_rate = 0.8\n",
        "valid_rate = 0.2"
      ],
      "execution_count": 0,
      "outputs": []
    },
    {
      "metadata": {
        "id": "X97jBCCVWZgO",
        "colab_type": "code",
        "outputId": "abd46eb3-5bba-492b-df32-2e21cf746036",
        "colab": {
          "base_uri": "https://localhost:8080/",
          "height": 3377
        }
      },
      "cell_type": "code",
      "source": [
        "if os.path.isdir(dir_video):\n",
        "    for file in sorted(os.listdir(dir_video)):\n",
        "        if \".avi\" in file and n_file < n_files: # and \"0088\" in file:\n",
        "            try:\n",
        "                lip_data = load_video_3D(dir_video + file)\n",
        "                (mgc_lsp_coeff, lf0) = get_mgc_lsp_coeff(dir_audio + file[:-4])\n",
        "            except ValueError as e:\n",
        "                print(\"wrong data, check manually!\", e)\n",
        "            \n",
        "            else:\n",
        "                n_file += 1\n",
        "                \n",
        "                mgc_lip_len = np.min((lip_data.shape[2], len(mgc_lsp_coeff)))\n",
        "                \n",
        "                lip_data = lip_data[:, :, 0:mgc_lip_len]\n",
        "                mgc_lsp_coeff = mgc_lsp_coeff[0:mgc_lip_len]\n",
        "                \n",
        "                print(file[:-4], lip_data.shape, mgc_lsp_coeff.shape)\n",
        "                \n",
        "                # resize\n",
        "                lip_len = lip_data.shape[2]\n",
        "                if lip_size + lip_len > n_max_lip_frames:\n",
        "                    raise\n",
        "                for i in range(lip_len):\n",
        "                    # lip[lip_size + i] = scipy.misc.imresize(lip_data[i], (n_lines_reduced, n_pixels_reduced), interp='bicubic') # 64x64\n",
        "                    lip[lip_size + i] = lip_data[:, :, i].ravel() # original, 128x128\n",
        "                    mgc[mgc_size + i] = mgc_lsp_coeff[i]\n",
        "\n",
        "                lip_size += lip_len\n",
        "                mgc_size += lip_len\n",
        "                \n",
        "                print('n_frames_all: ', lip_size, 'mgc_size: ', mgc_size)\n",
        "                # calculate mgc features\n",
        "\n",
        "lip = lip[0 : lip_size]\n",
        "mgc = mgc[0 : mgc_size]"
      ],
      "execution_count": 16,
      "outputs": [
        {
          "output_type": "stream",
          "text": [
            "000001 (128, 128, 0) (0, 13)\n",
            "n_frames_all:  0 mgc_size:  0\n",
            "000002 (128, 128, 75) (75, 13)\n",
            "n_frames_all:  75 mgc_size:  75\n",
            "000003 (128, 128, 75) (75, 13)\n",
            "n_frames_all:  150 mgc_size:  150\n",
            "000004 (128, 128, 75) (75, 13)\n",
            "n_frames_all:  225 mgc_size:  225\n",
            "000005 (128, 128, 75) (75, 13)\n",
            "n_frames_all:  300 mgc_size:  300\n",
            "000006 (128, 128, 75) (75, 13)\n",
            "n_frames_all:  375 mgc_size:  375\n",
            "000007 (128, 128, 75) (75, 13)\n",
            "n_frames_all:  450 mgc_size:  450\n",
            "000008 (128, 128, 75) (75, 13)\n",
            "n_frames_all:  525 mgc_size:  525\n",
            "000009 (128, 128, 75) (75, 13)\n",
            "n_frames_all:  600 mgc_size:  600\n",
            "000010 (128, 128, 75) (75, 13)\n",
            "n_frames_all:  675 mgc_size:  675\n",
            "000011 (128, 128, 75) (75, 13)\n",
            "n_frames_all:  750 mgc_size:  750\n",
            "000012 (128, 128, 75) (75, 13)\n",
            "n_frames_all:  825 mgc_size:  825\n",
            "000013 (128, 128, 75) (75, 13)\n",
            "n_frames_all:  900 mgc_size:  900\n",
            "000014 (128, 128, 75) (75, 13)\n",
            "n_frames_all:  975 mgc_size:  975\n",
            "000015 (128, 128, 75) (75, 13)\n",
            "n_frames_all:  1050 mgc_size:  1050\n",
            "000016 (128, 128, 75) (75, 13)\n",
            "n_frames_all:  1125 mgc_size:  1125\n",
            "000017 (128, 128, 75) (75, 13)\n",
            "n_frames_all:  1200 mgc_size:  1200\n",
            "000018 (128, 128, 75) (75, 13)\n",
            "n_frames_all:  1275 mgc_size:  1275\n",
            "000019 (128, 128, 75) (75, 13)\n",
            "n_frames_all:  1350 mgc_size:  1350\n",
            "000020 (128, 128, 75) (75, 13)\n",
            "n_frames_all:  1425 mgc_size:  1425\n",
            "000021 (128, 128, 75) (75, 13)\n",
            "n_frames_all:  1500 mgc_size:  1500\n",
            "000022 (128, 128, 75) (75, 13)\n",
            "n_frames_all:  1575 mgc_size:  1575\n",
            "000023 (128, 128, 75) (75, 13)\n",
            "n_frames_all:  1650 mgc_size:  1650\n",
            "000024 (128, 128, 75) (75, 13)\n",
            "n_frames_all:  1725 mgc_size:  1725\n",
            "000025 (128, 128, 75) (75, 13)\n",
            "n_frames_all:  1800 mgc_size:  1800\n",
            "000026 (128, 128, 75) (75, 13)\n",
            "n_frames_all:  1875 mgc_size:  1875\n",
            "000027 (128, 128, 75) (75, 13)\n",
            "n_frames_all:  1950 mgc_size:  1950\n",
            "000028 (128, 128, 75) (75, 13)\n",
            "n_frames_all:  2025 mgc_size:  2025\n",
            "000029 (128, 128, 75) (75, 13)\n",
            "n_frames_all:  2100 mgc_size:  2100\n",
            "000030 (128, 128, 75) (75, 13)\n",
            "n_frames_all:  2175 mgc_size:  2175\n",
            "000031 (128, 128, 75) (75, 13)\n",
            "n_frames_all:  2250 mgc_size:  2250\n",
            "000032 (128, 128, 75) (75, 13)\n",
            "n_frames_all:  2325 mgc_size:  2325\n",
            "000033 (128, 128, 75) (75, 13)\n",
            "n_frames_all:  2400 mgc_size:  2400\n",
            "000034 (128, 128, 75) (75, 13)\n",
            "n_frames_all:  2475 mgc_size:  2475\n",
            "000035 (128, 128, 75) (75, 13)\n",
            "n_frames_all:  2550 mgc_size:  2550\n",
            "000036 (128, 128, 75) (75, 13)\n",
            "n_frames_all:  2625 mgc_size:  2625\n",
            "000037 (128, 128, 75) (75, 13)\n",
            "n_frames_all:  2700 mgc_size:  2700\n",
            "000038 (128, 128, 75) (75, 13)\n",
            "n_frames_all:  2775 mgc_size:  2775\n",
            "000039 (128, 128, 75) (75, 13)\n",
            "n_frames_all:  2850 mgc_size:  2850\n",
            "000040 (128, 128, 75) (75, 13)\n",
            "n_frames_all:  2925 mgc_size:  2925\n",
            "000041 (128, 128, 75) (75, 13)\n",
            "n_frames_all:  3000 mgc_size:  3000\n",
            "000042 (128, 128, 75) (75, 13)\n",
            "n_frames_all:  3075 mgc_size:  3075\n",
            "000043 (128, 128, 75) (75, 13)\n",
            "n_frames_all:  3150 mgc_size:  3150\n",
            "000044 (128, 128, 75) (75, 13)\n",
            "n_frames_all:  3225 mgc_size:  3225\n",
            "000045 (128, 128, 75) (75, 13)\n",
            "n_frames_all:  3300 mgc_size:  3300\n",
            "000046 (128, 128, 75) (75, 13)\n",
            "n_frames_all:  3375 mgc_size:  3375\n",
            "000047 (128, 128, 75) (75, 13)\n",
            "n_frames_all:  3450 mgc_size:  3450\n",
            "000048 (128, 128, 75) (75, 13)\n",
            "n_frames_all:  3525 mgc_size:  3525\n",
            "000049 (128, 128, 75) (75, 13)\n",
            "n_frames_all:  3600 mgc_size:  3600\n",
            "000050 (128, 128, 75) (75, 13)\n",
            "n_frames_all:  3675 mgc_size:  3675\n",
            "000051 (128, 128, 75) (75, 13)\n",
            "n_frames_all:  3750 mgc_size:  3750\n",
            "000052 (128, 128, 75) (75, 13)\n",
            "n_frames_all:  3825 mgc_size:  3825\n",
            "000053 (128, 128, 75) (75, 13)\n",
            "n_frames_all:  3900 mgc_size:  3900\n",
            "000054 (128, 128, 75) (75, 13)\n",
            "n_frames_all:  3975 mgc_size:  3975\n",
            "000055 (128, 128, 75) (75, 13)\n",
            "n_frames_all:  4050 mgc_size:  4050\n",
            "000056 (128, 128, 75) (75, 13)\n",
            "n_frames_all:  4125 mgc_size:  4125\n",
            "000057 (128, 128, 75) (75, 13)\n",
            "n_frames_all:  4200 mgc_size:  4200\n",
            "000058 (128, 128, 75) (75, 13)\n",
            "n_frames_all:  4275 mgc_size:  4275\n",
            "000059 (128, 128, 75) (75, 13)\n",
            "n_frames_all:  4350 mgc_size:  4350\n",
            "000060 (128, 128, 75) (75, 13)\n",
            "n_frames_all:  4425 mgc_size:  4425\n",
            "000061 (128, 128, 75) (75, 13)\n",
            "n_frames_all:  4500 mgc_size:  4500\n",
            "000062 (128, 128, 75) (75, 13)\n",
            "n_frames_all:  4575 mgc_size:  4575\n",
            "000063 (128, 128, 75) (75, 13)\n",
            "n_frames_all:  4650 mgc_size:  4650\n",
            "000064 (128, 128, 75) (75, 13)\n",
            "n_frames_all:  4725 mgc_size:  4725\n",
            "000065 (128, 128, 75) (75, 13)\n",
            "n_frames_all:  4800 mgc_size:  4800\n",
            "000066 (128, 128, 75) (75, 13)\n",
            "n_frames_all:  4875 mgc_size:  4875\n",
            "000067 (128, 128, 75) (75, 13)\n",
            "n_frames_all:  4950 mgc_size:  4950\n",
            "000068 (128, 128, 75) (75, 13)\n",
            "n_frames_all:  5025 mgc_size:  5025\n",
            "000069 (128, 128, 75) (75, 13)\n",
            "n_frames_all:  5100 mgc_size:  5100\n",
            "000070 (128, 128, 75) (75, 13)\n",
            "n_frames_all:  5175 mgc_size:  5175\n",
            "000071 (128, 128, 75) (75, 13)\n",
            "n_frames_all:  5250 mgc_size:  5250\n",
            "000072 (128, 128, 75) (75, 13)\n",
            "n_frames_all:  5325 mgc_size:  5325\n",
            "000073 (128, 128, 75) (75, 13)\n",
            "n_frames_all:  5400 mgc_size:  5400\n",
            "000074 (128, 128, 75) (75, 13)\n",
            "n_frames_all:  5475 mgc_size:  5475\n",
            "000075 (128, 128, 75) (75, 13)\n",
            "n_frames_all:  5550 mgc_size:  5550\n",
            "000076 (128, 128, 75) (75, 13)\n",
            "n_frames_all:  5625 mgc_size:  5625\n",
            "000077 (128, 128, 75) (75, 13)\n",
            "n_frames_all:  5700 mgc_size:  5700\n",
            "000078 (128, 128, 75) (75, 13)\n",
            "n_frames_all:  5775 mgc_size:  5775\n",
            "000079 (128, 128, 75) (75, 13)\n",
            "n_frames_all:  5850 mgc_size:  5850\n",
            "000080 (128, 128, 75) (75, 13)\n",
            "n_frames_all:  5925 mgc_size:  5925\n",
            "000081 (128, 128, 75) (75, 13)\n",
            "n_frames_all:  6000 mgc_size:  6000\n",
            "000082 (128, 128, 75) (75, 13)\n",
            "n_frames_all:  6075 mgc_size:  6075\n",
            "000083 (128, 128, 75) (75, 13)\n",
            "n_frames_all:  6150 mgc_size:  6150\n",
            "000084 (128, 128, 75) (75, 13)\n",
            "n_frames_all:  6225 mgc_size:  6225\n",
            "000085 (128, 128, 75) (75, 13)\n",
            "n_frames_all:  6300 mgc_size:  6300\n",
            "000086 (128, 128, 75) (75, 13)\n",
            "n_frames_all:  6375 mgc_size:  6375\n",
            "000087 (128, 128, 75) (75, 13)\n",
            "n_frames_all:  6450 mgc_size:  6450\n",
            "000089 (128, 128, 75) (75, 13)\n",
            "n_frames_all:  6525 mgc_size:  6525\n",
            "000090 (128, 128, 75) (75, 13)\n",
            "n_frames_all:  6600 mgc_size:  6600\n",
            "000091 (128, 128, 75) (75, 13)\n",
            "n_frames_all:  6675 mgc_size:  6675\n",
            "000092 (128, 128, 75) (75, 13)\n",
            "n_frames_all:  6750 mgc_size:  6750\n",
            "000093 (128, 128, 75) (75, 13)\n",
            "n_frames_all:  6825 mgc_size:  6825\n",
            "000094 (128, 128, 75) (75, 13)\n",
            "n_frames_all:  6900 mgc_size:  6900\n",
            "000095 (128, 128, 75) (75, 13)\n",
            "n_frames_all:  6975 mgc_size:  6975\n",
            "000096 (128, 128, 75) (75, 13)\n",
            "n_frames_all:  7050 mgc_size:  7050\n",
            "000097 (128, 128, 75) (75, 13)\n",
            "n_frames_all:  7125 mgc_size:  7125\n",
            "000098 (128, 128, 75) (75, 13)\n",
            "n_frames_all:  7200 mgc_size:  7200\n",
            "000099 (128, 128, 75) (75, 13)\n",
            "n_frames_all:  7275 mgc_size:  7275\n",
            "000100 (128, 128, 75) (75, 13)\n",
            "n_frames_all:  7350 mgc_size:  7350\n",
            "000101 (128, 128, 75) (75, 13)\n",
            "n_frames_all:  7425 mgc_size:  7425\n"
          ],
          "name": "stdout"
        }
      ]
    },
    {
      "metadata": {
        "id": "lYxT9huZok69",
        "colab_type": "code",
        "outputId": "0c950c03-75a3-4a67-d2ab-33526ae75e7d",
        "colab": {
          "base_uri": "https://localhost:8080/",
          "height": 50
        }
      },
      "cell_type": "code",
      "source": [
        "print(lip.shape[0])\n",
        "\n",
        "print(lip_size)"
      ],
      "execution_count": 17,
      "outputs": [
        {
          "output_type": "stream",
          "text": [
            "7425\n",
            "7425\n"
          ],
          "name": "stdout"
        }
      ]
    },
    {
      "metadata": {
        "id": "Ddby6jKMWrNZ",
        "colab_type": "code",
        "outputId": "702f63ac-8be8-4aae-90dc-206b40223bd3",
        "colab": {
          "base_uri": "https://localhost:8080/",
          "height": 34
        }
      },
      "cell_type": "code",
      "source": [
        "print(lip.shape, mgc.shape)\n",
        "\n",
        "samples = np.zeros((lip_size), dtype=[('input', float, (CHANNELS ,n_lines, n_pixels)), ('output', float, (n_mgc))])\n",
        "\n",
        "for i in range(0, lip_size-CHANNELS+1):\n",
        "    temp_in = np.zeros((CHANNELS, n_lines, n_pixels))\n",
        "    for j in range(0, CHANNELS):\n",
        "        temp_in[j] = lip[i+j].reshape(n_lines, n_pixels)\n",
        "    samples[i] = temp_in, mgc[i]"
      ],
      "execution_count": 18,
      "outputs": [
        {
          "output_type": "stream",
          "text": [
            "(7425, 16384) (7425, 13)\n"
          ],
          "name": "stdout"
        }
      ]
    },
    {
      "metadata": {
        "id": "kBPF4PevSgYd",
        "colab_type": "code",
        "outputId": "91834f3c-61d7-4393-8d7f-829d7559f8fc",
        "colab": {
          "base_uri": "https://localhost:8080/",
          "height": 34
        }
      },
      "cell_type": "code",
      "source": [
        "samples[0]['input'].shape"
      ],
      "execution_count": 19,
      "outputs": [
        {
          "output_type": "execute_result",
          "data": {
            "text/plain": [
              "(4, 128, 128)"
            ]
          },
          "metadata": {
            "tags": []
          },
          "execution_count": 19
        }
      ]
    },
    {
      "metadata": {
        "id": "QFI18U2DPBOm",
        "colab_type": "code",
        "outputId": "fab2fedd-2a9a-4c8e-991e-3b54a9b60622",
        "colab": {
          "base_uri": "https://localhost:8080/",
          "height": 1092
        }
      },
      "cell_type": "code",
      "source": [
        "print(samples['input'].shape)\n",
        "print(samples[0]['input'].shape)\n",
        "print(samples[0]['input'])\n",
        "print(samples[1]['input'])"
      ],
      "execution_count": 20,
      "outputs": [
        {
          "output_type": "stream",
          "text": [
            "(7425, 4, 128, 128)\n",
            "(4, 128, 128)\n",
            "[[[0.79581153 0.8062827  0.81151831 ... 0.539267   0.54973823 0.539267  ]\n",
            "  [0.79057592 0.79581153 0.80104715 ... 0.53403139 0.54450262 0.54450262]\n",
            "  [0.78534031 0.77486908 0.79057592 ... 0.52879584 0.539267   0.55497384]\n",
            "  ...\n",
            "  [0.55497384 0.54450262 0.51832461 ... 0.14136125 0.14136125 0.14659686]\n",
            "  [0.49214661 0.4764398  0.44502619 ... 0.13089006 0.13612565 0.13612565]\n",
            "  [0.41884816 0.39790577 0.37172773 ... 0.12565444 0.12565444 0.12565444]]\n",
            "\n",
            " [[0.78534031 0.79581153 0.8062827  ... 0.539267   0.54973823 0.539267  ]\n",
            "  [0.78534031 0.79057592 0.80104715 ... 0.53403139 0.54450262 0.54450262]\n",
            "  [0.79057592 0.78534031 0.79057592 ... 0.52879584 0.539267   0.55497384]\n",
            "  ...\n",
            "  [0.54973823 0.54973823 0.52879584 ... 0.14136125 0.14136125 0.14659686]\n",
            "  [0.49738219 0.47120419 0.43979058 ... 0.13089006 0.13612565 0.13612565]\n",
            "  [0.42408377 0.39267015 0.36649215 ... 0.12565444 0.12565444 0.12565444]]\n",
            "\n",
            " [[0.79057592 0.80104715 0.81151831 ... 0.539267   0.54973823 0.539267  ]\n",
            "  [0.79057592 0.79581153 0.8062827  ... 0.53403139 0.54450262 0.54450262]\n",
            "  [0.79581153 0.79057592 0.79581153 ... 0.52879584 0.539267   0.55497384]\n",
            "  ...\n",
            "  [0.54973823 0.54973823 0.52879584 ... 0.14136125 0.14136125 0.14659686]\n",
            "  [0.49738219 0.47120419 0.43979058 ... 0.13089006 0.13612565 0.13612565]\n",
            "  [0.42408377 0.39267015 0.36649215 ... 0.12565444 0.12565444 0.12565444]]\n",
            "\n",
            " [[0.79057592 0.80104715 0.81151831 ... 0.539267   0.54973823 0.539267  ]\n",
            "  [0.79057592 0.79581153 0.8062827  ... 0.53403139 0.54450262 0.54450262]\n",
            "  [0.79581153 0.79057592 0.79581153 ... 0.52879584 0.539267   0.55497384]\n",
            "  ...\n",
            "  [0.54973823 0.54973823 0.52879584 ... 0.14136125 0.14136125 0.14659686]\n",
            "  [0.49738219 0.47120419 0.43979058 ... 0.13089006 0.13612565 0.13612565]\n",
            "  [0.42408377 0.39267015 0.36649215 ... 0.12565444 0.12565444 0.12565444]]]\n",
            "[[[0.78534031 0.79581153 0.8062827  ... 0.539267   0.54973823 0.539267  ]\n",
            "  [0.78534031 0.79057592 0.80104715 ... 0.53403139 0.54450262 0.54450262]\n",
            "  [0.79057592 0.78534031 0.79057592 ... 0.52879584 0.539267   0.55497384]\n",
            "  ...\n",
            "  [0.54973823 0.54973823 0.52879584 ... 0.14136125 0.14136125 0.14659686]\n",
            "  [0.49738219 0.47120419 0.43979058 ... 0.13089006 0.13612565 0.13612565]\n",
            "  [0.42408377 0.39267015 0.36649215 ... 0.12565444 0.12565444 0.12565444]]\n",
            "\n",
            " [[0.79057592 0.80104715 0.81151831 ... 0.539267   0.54973823 0.539267  ]\n",
            "  [0.79057592 0.79581153 0.8062827  ... 0.53403139 0.54450262 0.54450262]\n",
            "  [0.79581153 0.79057592 0.79581153 ... 0.52879584 0.539267   0.55497384]\n",
            "  ...\n",
            "  [0.54973823 0.54973823 0.52879584 ... 0.14136125 0.14136125 0.14659686]\n",
            "  [0.49738219 0.47120419 0.43979058 ... 0.13089006 0.13612565 0.13612565]\n",
            "  [0.42408377 0.39267015 0.36649215 ... 0.12565444 0.12565444 0.12565444]]\n",
            "\n",
            " [[0.79057592 0.80104715 0.81151831 ... 0.539267   0.54973823 0.539267  ]\n",
            "  [0.79057592 0.79581153 0.8062827  ... 0.53403139 0.54450262 0.54450262]\n",
            "  [0.79581153 0.79057592 0.79581153 ... 0.52879584 0.539267   0.55497384]\n",
            "  ...\n",
            "  [0.54973823 0.54973823 0.52879584 ... 0.14136125 0.14136125 0.14659686]\n",
            "  [0.49738219 0.47120419 0.43979058 ... 0.13089006 0.13612565 0.13612565]\n",
            "  [0.42408377 0.39267015 0.36649215 ... 0.12565444 0.12565444 0.12565444]]\n",
            "\n",
            " [[0.78534031 0.8062827  0.8062827  ... 0.539267   0.54973823 0.539267  ]\n",
            "  [0.78534031 0.80104715 0.80104715 ... 0.53403139 0.54450262 0.54450262]\n",
            "  [0.79057592 0.79581153 0.79057592 ... 0.52879584 0.539267   0.55497384]\n",
            "  ...\n",
            "  [0.54973823 0.54973823 0.52879584 ... 0.14136125 0.14136125 0.14659686]\n",
            "  [0.49738219 0.47120419 0.43979058 ... 0.13089006 0.13612565 0.13612565]\n",
            "  [0.42408377 0.39267015 0.36649215 ... 0.12565444 0.12565444 0.12565444]]]\n"
          ],
          "name": "stdout"
        }
      ]
    },
    {
      "metadata": {
        "id": "hC4v19Xvt3Sg",
        "colab_type": "code",
        "outputId": "9ab3996c-3d40-4dfc-b26e-2ad05a53ca92",
        "colab": {
          "base_uri": "https://localhost:8080/",
          "height": 34
        }
      },
      "cell_type": "code",
      "source": [
        "lip_size"
      ],
      "execution_count": 21,
      "outputs": [
        {
          "output_type": "execute_result",
          "data": {
            "text/plain": [
              "7425"
            ]
          },
          "metadata": {
            "tags": []
          },
          "execution_count": 21
        }
      ]
    },
    {
      "metadata": {
        "id": "l0WLLzKRzcw0",
        "colab_type": "code",
        "colab": {}
      },
      "cell_type": "code",
      "source": [
        "train_samples = np.zeros(int(train_rate*lip_size), dtype=[('input', float, (CHANNELS, n_lines, n_pixels)), ('output', float, (n_mgc))])\n",
        "valid_samples = np.zeros(int(valid_rate*lip_size), dtype=[('input', float, (CHANNELS, n_lines, n_pixels)), ('output', float, (n_mgc))])\n",
        "\n",
        "# use 90% of data for training, 10% for validation\n",
        "train_samples = samples[0 : int(train_rate*lip_size)]\n",
        "valid_samples = samples[int(valid_rate*lip_size) : ]\n",
        "#mgc_training = mgc[0 : int(0.9*mgc_size)]\n",
        "#mgc_validation = mgc[int(0.9*mgc_size) : ]\n",
        "\n"
      ],
      "execution_count": 0,
      "outputs": []
    },
    {
      "metadata": {
        "id": "3WC3Qv615mF3",
        "colab_type": "code",
        "colab": {}
      },
      "cell_type": "code",
      "source": [
        "xtrain_mean = np.mean(train_samples['input'])\n",
        "train_samples['input'] = train_samples['input'] - xtrain_mean\n",
        "valid_samples['input'] = valid_samples['input'] - xtrain_mean\n",
        "\n",
        "ytrain_mean = np.mean(train_samples['output'])\n",
        "y_stds = np.std(train_samples['output'])\n",
        "\n",
        "ytrain_norm =((train_samples['output']-ytrain_mean)/y_stds)\n",
        "yvalid_norm =((valid_samples['output']-ytrain_mean)/y_stds)\n",
        "\n"
      ],
      "execution_count": 0,
      "outputs": []
    },
    {
      "metadata": {
        "id": "-PDCDUXGvg1P",
        "colab_type": "code",
        "colab": {}
      },
      "cell_type": "code",
      "source": [
        "DROPOUT = 0.25\n",
        "DROPOUT2 = 0.5"
      ],
      "execution_count": 0,
      "outputs": []
    },
    {
      "metadata": {
        "id": "Jc4FdJA6ymjy",
        "colab_type": "code",
        "outputId": "552a16ee-4ba0-4aad-b00a-e794dd947a2e",
        "colab": {
          "base_uri": "https://localhost:8080/",
          "height": 138
        }
      },
      "cell_type": "code",
      "source": [
        "from keras.layers import Conv2D, MaxPooling2D, Flatten, Dropout, Reshape\n",
        "from keras.layers import TimeDistributed\n",
        "from keras.layers import LeakyReLU\n",
        "from keras.layers.normalization import BatchNormalization\n",
        "\n",
        "model = Sequential()\n",
        "model.add(Conv2D(input_shape=(CHANNELS ,n_lines, n_pixels), filters=32, kernel_size=(3,3), strides=(1, 1), padding='same', use_bias=True, data_format= \"channels_first\"))\n",
        "model.add(BatchNormalization())\n",
        "model.add(LeakyReLU())\n",
        "model.add(MaxPooling2D(pool_size=(2, 2),  padding='same', data_format= \"channels_first\"))\n",
        "model.add(Conv2D(filters=32, kernel_size=(3,3), strides=(1, 1), padding='same', use_bias=True, data_format= \"channels_first\"))\n",
        "model.add(BatchNormalization())\n",
        "model.add(LeakyReLU())\t\n",
        "model.add(MaxPooling2D(pool_size=(2, 2),  padding='same', data_format= \"channels_first\"))\n",
        "model.add(Dropout(DROPOUT))\n",
        "model.add(Conv2D(filters=64, kernel_size=(3,3), strides=(1, 1), padding='same', use_bias=True, data_format= \"channels_first\"))\n",
        "model.add(BatchNormalization())\n",
        "model.add(LeakyReLU())\t\n",
        "model.add(MaxPooling2D(pool_size=(2, 2),  padding='same', data_format= \"channels_first\"))\n",
        "model.add(Dropout(DROPOUT2))\n",
        "model.add(Flatten())\n",
        "model.add(Dense(512))\n",
        "model.add(BatchNormalization())\n",
        "model.add(Dense(13))"
      ],
      "execution_count": 26,
      "outputs": [
        {
          "output_type": "stream",
          "text": [
            "WARNING:tensorflow:From /usr/local/lib/python3.6/dist-packages/tensorflow/python/framework/op_def_library.py:263: colocate_with (from tensorflow.python.framework.ops) is deprecated and will be removed in a future version.\n",
            "Instructions for updating:\n",
            "Colocations handled automatically by placer.\n",
            "WARNING:tensorflow:From /usr/local/lib/python3.6/dist-packages/keras/backend/tensorflow_backend.py:3445: calling dropout (from tensorflow.python.ops.nn_ops) with keep_prob is deprecated and will be removed in a future version.\n",
            "Instructions for updating:\n",
            "Please use `rate` instead of `keep_prob`. Rate should be set to `rate = 1 - keep_prob`.\n"
          ],
          "name": "stdout"
        }
      ]
    },
    {
      "metadata": {
        "id": "Qpi1V03t2ZhC",
        "colab_type": "code",
        "outputId": "b30f838d-eadf-4992-b332-9f4b0bc3c958",
        "colab": {
          "base_uri": "https://localhost:8080/",
          "height": 756
        }
      },
      "cell_type": "code",
      "source": [
        "from keras.optimizers import Adam\n",
        "adam=Adam(lr=0.01)\n",
        "# compile model\n",
        "model.compile(loss='mean_squared_error', optimizer=adam)\n",
        "\n",
        "print(model.summary())"
      ],
      "execution_count": 27,
      "outputs": [
        {
          "output_type": "stream",
          "text": [
            "_________________________________________________________________\n",
            "Layer (type)                 Output Shape              Param #   \n",
            "=================================================================\n",
            "conv2d_1 (Conv2D)            (None, 32, 128, 128)      1184      \n",
            "_________________________________________________________________\n",
            "batch_normalization_1 (Batch (None, 32, 128, 128)      512       \n",
            "_________________________________________________________________\n",
            "leaky_re_lu_1 (LeakyReLU)    (None, 32, 128, 128)      0         \n",
            "_________________________________________________________________\n",
            "max_pooling2d_1 (MaxPooling2 (None, 32, 64, 64)        0         \n",
            "_________________________________________________________________\n",
            "conv2d_2 (Conv2D)            (None, 32, 64, 64)        9248      \n",
            "_________________________________________________________________\n",
            "batch_normalization_2 (Batch (None, 32, 64, 64)        256       \n",
            "_________________________________________________________________\n",
            "leaky_re_lu_2 (LeakyReLU)    (None, 32, 64, 64)        0         \n",
            "_________________________________________________________________\n",
            "max_pooling2d_2 (MaxPooling2 (None, 32, 32, 32)        0         \n",
            "_________________________________________________________________\n",
            "dropout_1 (Dropout)          (None, 32, 32, 32)        0         \n",
            "_________________________________________________________________\n",
            "conv2d_3 (Conv2D)            (None, 64, 32, 32)        18496     \n",
            "_________________________________________________________________\n",
            "batch_normalization_3 (Batch (None, 64, 32, 32)        128       \n",
            "_________________________________________________________________\n",
            "leaky_re_lu_3 (LeakyReLU)    (None, 64, 32, 32)        0         \n",
            "_________________________________________________________________\n",
            "max_pooling2d_3 (MaxPooling2 (None, 64, 16, 16)        0         \n",
            "_________________________________________________________________\n",
            "dropout_2 (Dropout)          (None, 64, 16, 16)        0         \n",
            "_________________________________________________________________\n",
            "flatten_1 (Flatten)          (None, 16384)             0         \n",
            "_________________________________________________________________\n",
            "dense_1 (Dense)              (None, 512)               8389120   \n",
            "_________________________________________________________________\n",
            "batch_normalization_4 (Batch (None, 512)               2048      \n",
            "_________________________________________________________________\n",
            "dense_2 (Dense)              (None, 13)                6669      \n",
            "=================================================================\n",
            "Total params: 8,427,661\n",
            "Trainable params: 8,426,189\n",
            "Non-trainable params: 1,472\n",
            "_________________________________________________________________\n",
            "None\n"
          ],
          "name": "stdout"
        }
      ]
    },
    {
      "metadata": {
        "id": "Rhn7bVZe2ZeC",
        "colab_type": "code",
        "outputId": "9158e61f-3c99-4231-99a3-ca23e4d3ff47",
        "colab": {
          "base_uri": "https://localhost:8080/",
          "height": 34
        }
      },
      "cell_type": "code",
      "source": [
        "# early stopping to avoid over-training\n",
        "# csv logger\n",
        "current_date = '{date:%Y-%m-%d_%H-%M-%S}'.format( date=datetime.datetime.now() )\n",
        "print(current_date)\n",
        "callbacks = [EarlyStopping(monitor='val_loss', patience=5, verbose=0), \\\n",
        "             CSVLogger(dir_output + 'VID2SPEECH_GRID_baseline_' + current_date + '.csv', append=True, separator=';')]"
      ],
      "execution_count": 28,
      "outputs": [
        {
          "output_type": "stream",
          "text": [
            "2019-03-27_20-58-46\n"
          ],
          "name": "stdout"
        }
      ]
    },
    {
      "metadata": {
        "id": "9LbXUaNf2Za4",
        "colab_type": "code",
        "outputId": "1ea7edb9-1ded-4c1e-d5f2-de2b92319c23",
        "colab": {
          "base_uri": "https://localhost:8080/",
          "height": 1616
        }
      },
      "cell_type": "code",
      "source": [
        "# Run training\n",
        "history = model.fit(train_samples['input'], ytrain_norm,\n",
        "                        epochs = 60, batch_size = 32, shuffle = True, verbose = 1,\n",
        "                        validation_data=(valid_samples['input'], yvalid_norm),\n",
        "                        callbacks=callbacks)"
      ],
      "execution_count": 29,
      "outputs": [
        {
          "output_type": "stream",
          "text": [
            "WARNING:tensorflow:From /usr/local/lib/python3.6/dist-packages/tensorflow/python/ops/math_ops.py:3066: to_int32 (from tensorflow.python.ops.math_ops) is deprecated and will be removed in a future version.\n",
            "Instructions for updating:\n",
            "Use tf.cast instead.\n",
            "Train on 5940 samples, validate on 5940 samples\n",
            "Epoch 1/60\n",
            "5940/5940 [==============================] - 24s 4ms/step - loss: 1.5246 - val_loss: 0.5713\n",
            "Epoch 2/60\n",
            "5940/5940 [==============================] - 19s 3ms/step - loss: 0.6517 - val_loss: 0.5766\n",
            "Epoch 3/60\n",
            "5940/5940 [==============================] - 19s 3ms/step - loss: 0.5643 - val_loss: 0.5084\n",
            "Epoch 4/60\n",
            "5940/5940 [==============================] - 19s 3ms/step - loss: 0.5233 - val_loss: 0.5616\n",
            "Epoch 5/60\n",
            "5940/5940 [==============================] - 19s 3ms/step - loss: 0.5031 - val_loss: 0.4637\n",
            "Epoch 6/60\n",
            "5940/5940 [==============================] - 19s 3ms/step - loss: 0.5202 - val_loss: 0.5018\n",
            "Epoch 7/60\n",
            "5940/5940 [==============================] - 20s 3ms/step - loss: 0.4874 - val_loss: 0.4416\n",
            "Epoch 8/60\n",
            "5940/5940 [==============================] - 20s 3ms/step - loss: 0.4825 - val_loss: 0.4623\n",
            "Epoch 9/60\n",
            "5940/5940 [==============================] - 19s 3ms/step - loss: 0.4785 - val_loss: 0.4211\n",
            "Epoch 10/60\n",
            "5940/5940 [==============================] - 19s 3ms/step - loss: 0.4445 - val_loss: 0.4395\n",
            "Epoch 11/60\n",
            "5940/5940 [==============================] - 19s 3ms/step - loss: 0.4306 - val_loss: 0.3873\n",
            "Epoch 12/60\n",
            "5940/5940 [==============================] - 19s 3ms/step - loss: 0.4052 - val_loss: 0.3601\n",
            "Epoch 13/60\n",
            "5940/5940 [==============================] - 19s 3ms/step - loss: 0.4005 - val_loss: 0.6476\n",
            "Epoch 14/60\n",
            "5940/5940 [==============================] - 19s 3ms/step - loss: 0.3767 - val_loss: 0.3530\n",
            "Epoch 15/60\n",
            "5940/5940 [==============================] - 19s 3ms/step - loss: 0.3767 - val_loss: 0.4366\n",
            "Epoch 16/60\n",
            "5940/5940 [==============================] - 20s 3ms/step - loss: 0.3648 - val_loss: 0.3656\n",
            "Epoch 17/60\n",
            "5940/5940 [==============================] - 19s 3ms/step - loss: 0.3553 - val_loss: 0.3750\n",
            "Epoch 18/60\n",
            "5940/5940 [==============================] - 22s 4ms/step - loss: 0.3392 - val_loss: 0.3388\n",
            "Epoch 19/60\n",
            "5940/5940 [==============================] - 21s 4ms/step - loss: 0.3279 - val_loss: 0.3584\n",
            "Epoch 20/60\n",
            "5940/5940 [==============================] - 21s 4ms/step - loss: 0.3258 - val_loss: 0.3188\n",
            "Epoch 21/60\n",
            "5940/5940 [==============================] - 22s 4ms/step - loss: 0.3136 - val_loss: 0.3378\n",
            "Epoch 22/60\n",
            "5940/5940 [==============================] - 22s 4ms/step - loss: 0.3041 - val_loss: 0.3125\n",
            "Epoch 23/60\n",
            "5940/5940 [==============================] - 21s 4ms/step - loss: 0.3092 - val_loss: 0.3044\n",
            "Epoch 24/60\n",
            "5940/5940 [==============================] - 22s 4ms/step - loss: 0.3136 - val_loss: 0.3232\n",
            "Epoch 25/60\n",
            "5940/5940 [==============================] - 22s 4ms/step - loss: 0.2952 - val_loss: 0.3032\n",
            "Epoch 26/60\n",
            "5940/5940 [==============================] - 21s 4ms/step - loss: 0.2975 - val_loss: 0.3121\n",
            "Epoch 27/60\n",
            "5940/5940 [==============================] - 22s 4ms/step - loss: 0.2898 - val_loss: 0.3036\n",
            "Epoch 28/60\n",
            "5940/5940 [==============================] - 21s 4ms/step - loss: 0.2876 - val_loss: 0.2906\n",
            "Epoch 29/60\n",
            "5940/5940 [==============================] - 21s 4ms/step - loss: 0.2845 - val_loss: 0.2896\n",
            "Epoch 30/60\n",
            "5940/5940 [==============================] - 21s 4ms/step - loss: 0.2657 - val_loss: 0.2969\n",
            "Epoch 31/60\n",
            "5940/5940 [==============================] - 21s 4ms/step - loss: 0.2687 - val_loss: 0.2988\n",
            "Epoch 32/60\n",
            "5940/5940 [==============================] - 21s 4ms/step - loss: 0.2709 - val_loss: 0.2949\n",
            "Epoch 33/60\n",
            "5940/5940 [==============================] - 22s 4ms/step - loss: 0.2736 - val_loss: 0.3595\n",
            "Epoch 34/60\n",
            "5940/5940 [==============================] - 21s 4ms/step - loss: 0.2627 - val_loss: 0.2768\n",
            "Epoch 35/60\n",
            "5940/5940 [==============================] - 21s 4ms/step - loss: 0.2564 - val_loss: 0.2965\n",
            "Epoch 36/60\n",
            "5940/5940 [==============================] - 22s 4ms/step - loss: 0.2643 - val_loss: 0.2843\n",
            "Epoch 37/60\n",
            "5940/5940 [==============================] - 22s 4ms/step - loss: 0.2530 - val_loss: 0.2828\n",
            "Epoch 38/60\n",
            "5940/5940 [==============================] - 21s 4ms/step - loss: 0.2526 - val_loss: 0.2536\n",
            "Epoch 39/60\n",
            "5940/5940 [==============================] - 21s 4ms/step - loss: 0.2514 - val_loss: 0.2812\n",
            "Epoch 40/60\n",
            "5940/5940 [==============================] - 21s 4ms/step - loss: 0.2522 - val_loss: 0.2518\n",
            "Epoch 41/60\n",
            "5940/5940 [==============================] - 21s 4ms/step - loss: 0.2390 - val_loss: 0.2573\n",
            "Epoch 42/60\n",
            "5940/5940 [==============================] - 21s 4ms/step - loss: 0.2488 - val_loss: 0.2589\n",
            "Epoch 43/60\n",
            "5940/5940 [==============================] - 21s 4ms/step - loss: 0.2450 - val_loss: 0.2560\n",
            "Epoch 44/60\n",
            "5940/5940 [==============================] - 21s 4ms/step - loss: 0.2388 - val_loss: 0.2863\n",
            "Epoch 45/60\n",
            "5940/5940 [==============================] - 22s 4ms/step - loss: 0.2382 - val_loss: 0.2522\n"
          ],
          "name": "stdout"
        }
      ]
    },
    {
      "metadata": {
        "id": "8B5kU3wfEP-G",
        "colab_type": "text"
      },
      "cell_type": "markdown",
      "source": [
        ""
      ]
    },
    {
      "metadata": {
        "id": "Yjbe_I1x2ZSS",
        "colab_type": "code",
        "colab": {}
      },
      "cell_type": "code",
      "source": [
        "model_json = model.to_json()\n",
        "with open(dir_output + 'VID2SPEECH_GRID_baseline_' + current_date + '_model.json', \"w\") as json_file:\n",
        "    json_file.write(model_json)\n",
        "\n",
        "# serialize weights to HDF5\n",
        "model.save_weights(dir_output + 'VID2SPEECH_GRID_baseline_' + current_date + '_weights.h5')\n",
        "\n",
        "# serialize scalers to pickle\n",
        "#pickle.dump(lip_pca, open(dir_output + 'VID2SPEECH_GRID_baseline_' + current_date + '_lip_pca.sav', 'wb'))\n",
        "#pickle.dump(lip_scaler, open(dir_output + 'VID2SPEECH_GRID_baseline_' + current_date + '_lip_scaler.sav', 'wb'))\n",
        "#pickle.dump(mgc_scalers, open(dir_output + 'VID2SPEECH_GRID_baseline_' + current_date + '_mgc_scalers.sav', 'wb'))"
      ],
      "execution_count": 0,
      "outputs": []
    },
    {
      "metadata": {
        "id": "ZVrvyT5R8lDI",
        "colab_type": "code",
        "colab": {}
      },
      "cell_type": "code",
      "source": [
        ""
      ],
      "execution_count": 0,
      "outputs": []
    },
    {
      "metadata": {
        "id": "tOayStqQ2qCr",
        "colab_type": "code",
        "outputId": "35be1b2f-ddbf-41d1-b673-89d74a4c3e57",
        "colab": {
          "base_uri": "https://localhost:8080/",
          "height": 635
        }
      },
      "cell_type": "code",
      "source": [
        "# evaluate on test data, from the end of file list\n",
        "n_files = 2\n",
        "n_file = 0\n",
        "if os.path.isdir(dir_video):\n",
        "    for file in sorted(os.listdir(dir_video)):\n",
        "        if \".avi\" in file and n_file < n_files and \"000990\" in file:\n",
        "            print('testing on: ', file)\n",
        "            lip_test = np.empty((75, n_lip))\n",
        "            lip_data = load_video_3D(dir_video + file)\n",
        "            lip_len = lip_data.shape[2]\n",
        "            (mgc_lsp_coeff, lf0) = get_mgc_lsp_coeff(dir_audio + file[:-4])\n",
        "            for i in range(lip_len):\n",
        "                # lip[lip_size + i] = scipy.misc.imresize(lip_data[i], (n_lines_reduced, n_pixels_reduced), interp='bicubic') # 48x64\n",
        "                lip_test[i] = lip_data[:, :, i].ravel() # original, 128x128\n",
        "            \n",
        "\n",
        "            #lip_test = lip_scaler.transform(lip_test)\n",
        "            print(lip_test.shape)\n",
        "            lip_test_shape = lip_test.shape\n",
        "            input_test_data = np.zeros((lip_test_shape[0], CHANNELS, 128, 128))\n",
        "            \n",
        "            \n",
        "            for i in range(0, len(lip_test)-CHANNELS+1):\n",
        "                temp_in = np.zeros((CHANNELS, 128, 128))\n",
        "                for j in range(0, CHANNELS):\n",
        "                    temp_in[j] = cv2.resize(lip_test[i+j],(n_lines, n_pixels))\n",
        "                input_test_data[i] = temp_in\n",
        "            \n",
        "            \n",
        "            \n",
        "            \n",
        "            \n",
        "            #lip_test = np.reshape(lip_test, (-1,1,200))\n",
        "            # predict using the trained model\n",
        "            mgc_predicted = model.predict(input_test_data)\n",
        "            \n",
        "           # mgc_predicted_ = np.zeros((lip_test_shape[0], 13))\n",
        "            #for i in range(n_mgc):\n",
        "             #   mgc_predicted[:, i] = mgc_scalers[i].inverse_transform(mgc_predicted[:, 0, i].reshape(-1, 1)).ravel()\n",
        "                    \n",
        "            n_file += 1\n",
        "            \n",
        "            lf0_whisper = np.ones((len(lf0))) * -1e10      \n",
        "            print(mgc_predicted.shape)\n",
        "            print(mgc_predicted[0].shape)\n",
        "            print(mgc_predicted[29])\n",
        "            #decode(mgc_lsp_coeff, lf0, dir_output + file[:-4] + '_original_vocoded', Fs = 8000, frlen = frameLength, frshft = frameShift, order = order, alpha = alpha, stage = stage)\n",
        "            decode(mgc_predicted, lf0, dir_output + file[:-4] +'_' +current_date + '_LSTM_predicted_PCA', Fs = 8000, frlen = frameLength, frshft = frameShift, order = order, alpha = alpha, stage = stage)\n",
        "            #decode(mgc_lsp_coeff, lf0_whisper, dir_output + file[:-4] + '_original_vocoded_whisper', Fs = 8000, frlen = frameLength, frshft = frameShift, order = order, alpha = alpha, stage = stage)\n",
        "            #decode(mgc_predicted, lf0_whisper, dir_output + file[:-4] +'_' + current_date + '_CNN3D_predicted_whisper', Fs = 8000, frlen = frameLength, frshft = frameShift, order = order, alpha = alpha, stage = stage)"
      ],
      "execution_count": 31,
      "outputs": [
        {
          "output_type": "stream",
          "text": [
            "testing on:  000990.avi\n",
            "(75, 16384)\n",
            "(75, 13)\n",
            "(13,)\n",
            "[-2.7348208  -0.20517637 -0.14295322 -0.01999933 -0.1741185  -0.16514981\n",
            " -0.13031638 -0.15229058 -0.17233938 -0.1645992  -0.13064483 -0.16217467\n",
            " -0.12960622]\n",
            "CompletedProcess(args='sptk lspcheck -m 12 -s 8.0 -c -r 0.1 -g -G 1.0E-10 \"/content/gdrive/My Drive/deep_learning_VID2SPEECH/000990_2019-03-27_20-58-46_LSTM_predicted_PCA.mgclsp\" | sptk lsp2lpc -m 12 -s 8.0 | sptk mgc2mgc -m 12 -a 0.42 -c 3 -n -u -M 12 -A 0.42 -C 3 > \"/content/gdrive/My Drive/deep_learning_VID2SPEECH/000990_2019-03-27_20-58-46_LSTM_predicted_PCA.mgc\"', returncode=0)\n",
            "CompletedProcess(args='sptk sopr -magic -1.0E+10 -EXP -INV -m 8000 -MAGIC 0.0 \"/content/gdrive/My Drive/deep_learning_VID2SPEECH/000990_2019-03-27_20-58-46_LSTM_predicted_PCA.lf0\" | sptk excite -n -p 320 | sptk mglsadf -P 5 -m 12 -p 320 -a 0.42 -c 3 \"/content/gdrive/My Drive/deep_learning_VID2SPEECH/000990_2019-03-27_20-58-46_LSTM_predicted_PCA.mgc\" | sptk x2x +fs -o | sox -c 1 -b 16 -e signed-integer -t raw -r 8000 -t wav -r 8000 \"/content/gdrive/My Drive/deep_learning_VID2SPEECH/000990_2019-03-27_20-58-46_LSTM_predicted_PCA.wav\"', returncode=127)\n"
          ],
          "name": "stdout"
        },
        {
          "output_type": "error",
          "ename": "FileNotFoundError",
          "evalue": "ignored",
          "traceback": [
            "\u001b[0;31m---------------------------------------------------------------------------\u001b[0m",
            "\u001b[0;31mFileNotFoundError\u001b[0m                         Traceback (most recent call last)",
            "\u001b[0;32m<ipython-input-31-9e5a4106c11e>\u001b[0m in \u001b[0;36m<module>\u001b[0;34m()\u001b[0m\n\u001b[1;32m     45\u001b[0m             \u001b[0mprint\u001b[0m\u001b[0;34m(\u001b[0m\u001b[0mmgc_predicted\u001b[0m\u001b[0;34m[\u001b[0m\u001b[0;36m29\u001b[0m\u001b[0;34m]\u001b[0m\u001b[0;34m)\u001b[0m\u001b[0;34m\u001b[0m\u001b[0;34m\u001b[0m\u001b[0m\n\u001b[1;32m     46\u001b[0m             \u001b[0;31m#decode(mgc_lsp_coeff, lf0, dir_output + file[:-4] + '_original_vocoded', Fs = 8000, frlen = frameLength, frshft = frameShift, order = order, alpha = alpha, stage = stage)\u001b[0m\u001b[0;34m\u001b[0m\u001b[0;34m\u001b[0m\u001b[0;34m\u001b[0m\u001b[0m\n\u001b[0;32m---> 47\u001b[0;31m             \u001b[0mdecode\u001b[0m\u001b[0;34m(\u001b[0m\u001b[0mmgc_predicted\u001b[0m\u001b[0;34m,\u001b[0m \u001b[0mlf0\u001b[0m\u001b[0;34m,\u001b[0m \u001b[0mdir_output\u001b[0m \u001b[0;34m+\u001b[0m \u001b[0mfile\u001b[0m\u001b[0;34m[\u001b[0m\u001b[0;34m:\u001b[0m\u001b[0;34m-\u001b[0m\u001b[0;36m4\u001b[0m\u001b[0;34m]\u001b[0m \u001b[0;34m+\u001b[0m\u001b[0;34m'_'\u001b[0m \u001b[0;34m+\u001b[0m\u001b[0mcurrent_date\u001b[0m \u001b[0;34m+\u001b[0m \u001b[0;34m'_LSTM_predicted_PCA'\u001b[0m\u001b[0;34m,\u001b[0m \u001b[0mFs\u001b[0m \u001b[0;34m=\u001b[0m \u001b[0;36m8000\u001b[0m\u001b[0;34m,\u001b[0m \u001b[0mfrlen\u001b[0m \u001b[0;34m=\u001b[0m \u001b[0mframeLength\u001b[0m\u001b[0;34m,\u001b[0m \u001b[0mfrshft\u001b[0m \u001b[0;34m=\u001b[0m \u001b[0mframeShift\u001b[0m\u001b[0;34m,\u001b[0m \u001b[0morder\u001b[0m \u001b[0;34m=\u001b[0m \u001b[0morder\u001b[0m\u001b[0;34m,\u001b[0m \u001b[0malpha\u001b[0m \u001b[0;34m=\u001b[0m \u001b[0malpha\u001b[0m\u001b[0;34m,\u001b[0m \u001b[0mstage\u001b[0m \u001b[0;34m=\u001b[0m \u001b[0mstage\u001b[0m\u001b[0;34m)\u001b[0m\u001b[0;34m\u001b[0m\u001b[0;34m\u001b[0m\u001b[0m\n\u001b[0m\u001b[1;32m     48\u001b[0m             \u001b[0;31m#decode(mgc_lsp_coeff, lf0_whisper, dir_output + file[:-4] + '_original_vocoded_whisper', Fs = 8000, frlen = frameLength, frshft = frameShift, order = order, alpha = alpha, stage = stage)\u001b[0m\u001b[0;34m\u001b[0m\u001b[0;34m\u001b[0m\u001b[0;34m\u001b[0m\u001b[0m\n\u001b[1;32m     49\u001b[0m             \u001b[0;31m#decode(mgc_predicted, lf0_whisper, dir_output + file[:-4] +'_' + current_date + '_CNN3D_predicted_whisper', Fs = 8000, frlen = frameLength, frshft = frameShift, order = order, alpha = alpha, stage = stage)\u001b[0m\u001b[0;34m\u001b[0m\u001b[0;34m\u001b[0m\u001b[0;34m\u001b[0m\u001b[0m\n",
            "\u001b[0;32m<ipython-input-7-3ea73474d428>\u001b[0m in \u001b[0;36mdecode\u001b[0;34m(mgc_lsp_coeff, lf0, basefilename_out, Fs, frlen, frshft, order, alpha, stage)\u001b[0m\n\u001b[1;32m     34\u001b[0m     \u001b[0mprint\u001b[0m\u001b[0;34m(\u001b[0m\u001b[0mtest2\u001b[0m\u001b[0;34m)\u001b[0m\u001b[0;34m\u001b[0m\u001b[0;34m\u001b[0m\u001b[0m\n\u001b[1;32m     35\u001b[0m     \u001b[0;31m# read file for output\u001b[0m\u001b[0;34m\u001b[0m\u001b[0;34m\u001b[0m\u001b[0;34m\u001b[0m\u001b[0m\n\u001b[0;32m---> 36\u001b[0;31m     \u001b[0;34m(\u001b[0m\u001b[0mFs_out\u001b[0m\u001b[0;34m,\u001b[0m \u001b[0mx_synthesized\u001b[0m\u001b[0;34m)\u001b[0m \u001b[0;34m=\u001b[0m \u001b[0mscipy\u001b[0m\u001b[0;34m.\u001b[0m\u001b[0mio\u001b[0m\u001b[0;34m.\u001b[0m\u001b[0mwavfile\u001b[0m\u001b[0;34m.\u001b[0m\u001b[0mread\u001b[0m\u001b[0;34m(\u001b[0m\u001b[0mbasefilename_out\u001b[0m \u001b[0;34m+\u001b[0m \u001b[0;34m'.wav'\u001b[0m\u001b[0;34m)\u001b[0m\u001b[0;34m\u001b[0m\u001b[0;34m\u001b[0m\u001b[0m\n\u001b[0m\u001b[1;32m     37\u001b[0m \u001b[0;34m\u001b[0m\u001b[0m\n\u001b[1;32m     38\u001b[0m     \u001b[0;32mreturn\u001b[0m \u001b[0mx_synthesized\u001b[0m\u001b[0;34m\u001b[0m\u001b[0;34m\u001b[0m\u001b[0m\n",
            "\u001b[0;32m/usr/local/lib/python3.6/dist-packages/scipy/io/wavfile.py\u001b[0m in \u001b[0;36mread\u001b[0;34m(filename, mmap)\u001b[0m\n\u001b[1;32m    231\u001b[0m         \u001b[0mmmap\u001b[0m \u001b[0;34m=\u001b[0m \u001b[0;32mFalse\u001b[0m\u001b[0;34m\u001b[0m\u001b[0;34m\u001b[0m\u001b[0m\n\u001b[1;32m    232\u001b[0m     \u001b[0;32melse\u001b[0m\u001b[0;34m:\u001b[0m\u001b[0;34m\u001b[0m\u001b[0;34m\u001b[0m\u001b[0m\n\u001b[0;32m--> 233\u001b[0;31m         \u001b[0mfid\u001b[0m \u001b[0;34m=\u001b[0m \u001b[0mopen\u001b[0m\u001b[0;34m(\u001b[0m\u001b[0mfilename\u001b[0m\u001b[0;34m,\u001b[0m \u001b[0;34m'rb'\u001b[0m\u001b[0;34m)\u001b[0m\u001b[0;34m\u001b[0m\u001b[0;34m\u001b[0m\u001b[0m\n\u001b[0m\u001b[1;32m    234\u001b[0m \u001b[0;34m\u001b[0m\u001b[0m\n\u001b[1;32m    235\u001b[0m     \u001b[0;32mtry\u001b[0m\u001b[0;34m:\u001b[0m\u001b[0;34m\u001b[0m\u001b[0;34m\u001b[0m\u001b[0m\n",
            "\u001b[0;31mFileNotFoundError\u001b[0m: [Errno 2] No such file or directory: '/content/gdrive/My Drive/deep_learning_VID2SPEECH/000990_2019-03-27_20-58-46_LSTM_predicted_PCA.wav'"
          ]
        }
      ]
    },
    {
      "metadata": {
        "id": "sQJvQJZu2qAi",
        "colab_type": "code",
        "colab": {}
      },
      "cell_type": "code",
      "source": [
        ""
      ],
      "execution_count": 0,
      "outputs": []
    },
    {
      "metadata": {
        "id": "smNrbf7Y2p9R",
        "colab_type": "code",
        "colab": {}
      },
      "cell_type": "code",
      "source": [
        ""
      ],
      "execution_count": 0,
      "outputs": []
    },
    {
      "metadata": {
        "id": "uj6At7kE2p6T",
        "colab_type": "code",
        "colab": {}
      },
      "cell_type": "code",
      "source": [
        ""
      ],
      "execution_count": 0,
      "outputs": []
    },
    {
      "metadata": {
        "id": "5m3CDpm92p0e",
        "colab_type": "code",
        "colab": {}
      },
      "cell_type": "code",
      "source": [
        ""
      ],
      "execution_count": 0,
      "outputs": []
    },
    {
      "metadata": {
        "id": "JYtHDtX_DlMu",
        "colab_type": "code",
        "colab": {}
      },
      "cell_type": "code",
      "source": [
        ""
      ],
      "execution_count": 0,
      "outputs": []
    },
    {
      "metadata": {
        "id": "BBFfZcAwSQUF",
        "colab_type": "code",
        "colab": {}
      },
      "cell_type": "code",
      "source": [
        ""
      ],
      "execution_count": 0,
      "outputs": []
    },
    {
      "metadata": {
        "id": "7_6oLz8ZcA5l",
        "colab_type": "code",
        "colab": {}
      },
      "cell_type": "code",
      "source": [
        "# listen to original sentence\n",
        "import IPython\n",
        "\n",
        "(Fs, x) = io_wav.read(dir_output + '000099_2019-03-16_21-28-32_CNN3D_predicted.wav')\n",
        "IPython.display.Audio(x, rate=Fs)"
      ],
      "execution_count": 0,
      "outputs": []
    },
    {
      "metadata": {
        "id": "fWNPBvsDcPFQ",
        "colab_type": "code",
        "colab": {}
      },
      "cell_type": "code",
      "source": [
        "# listen to synthesized sentence (using LIP video as input)\n",
        "(Fs, x) = io_wav.read(dir_output + '000990_DNN_predicted_PCA.wav')\n",
        "IPython.display.Audio(x, rate=Fs)"
      ],
      "execution_count": 0,
      "outputs": []
    },
    {
      "metadata": {
        "id": "h65qfvYzcgQy",
        "colab_type": "code",
        "colab": {}
      },
      "cell_type": "code",
      "source": [
        "# listen to original sentence (whispered)\n",
        "import IPython\n",
        "\n",
        "(Fs, x) = io_wav.read(dir_output + '000990_original_vocoded_whisper.wav')\n",
        "IPython.display.Audio(x, rate=Fs)"
      ],
      "execution_count": 0,
      "outputs": []
    },
    {
      "metadata": {
        "id": "kdL8_rnVcmir",
        "colab_type": "code",
        "colab": {}
      },
      "cell_type": "code",
      "source": [
        "# listen to synthesized sentence (whispered)\n",
        "(Fs, x) = io_wav.read(dir_output + '000990_2019-03-14_06-47-15_CNN_predicted_whisper.wav')\n",
        "IPython.display.Audio(x, rate=Fs)"
      ],
      "execution_count": 0,
      "outputs": []
    },
    {
      "metadata": {
        "id": "VoWzQOV7crxj",
        "colab_type": "code",
        "colab": {}
      },
      "cell_type": "code",
      "source": [
        "# save file to local drive\n",
        "from google.colab import files\n",
        "files.download(dir_output + '000990_DNN_predicted_PCA_whisper.wav')"
      ],
      "execution_count": 0,
      "outputs": []
    },
    {
      "metadata": {
        "id": "74tk7yMlcyXc",
        "colab_type": "code",
        "colab": {}
      },
      "cell_type": "code",
      "source": [
        "# show original and predicted spectrograms\n"
      ],
      "execution_count": 0,
      "outputs": []
    },
    {
      "metadata": {
        "id": "jVs6WN1-c3e9",
        "colab_type": "code",
        "colab": {}
      },
      "cell_type": "code",
      "source": [
        "import pysptk\n",
        "import librosa\n",
        "from librosa import display"
      ],
      "execution_count": 0,
      "outputs": []
    },
    {
      "metadata": {
        "id": "GJ32D4V0c6YV",
        "colab_type": "code",
        "colab": {}
      },
      "cell_type": "code",
      "source": [
        "mgc_original = np.fromfile(dir_output + '000099_2019-03-16_21-28-32_CNN3D_predicted.mgc', dtype=np.float32).reshape(-1, order + 1)\n",
        "logH_original = pysptk.mgc2sp(np.float64(mgc_original), 0.0, 0.0, frameLength).real\n",
        "display.specshow(logH_original.T, sr=Fs, hop_length=frameShift, x_axis=\"time\", y_axis=\"linear\")"
      ],
      "execution_count": 0,
      "outputs": []
    },
    {
      "metadata": {
        "id": "HIWNjk4Bc-g1",
        "colab_type": "code",
        "colab": {}
      },
      "cell_type": "code",
      "source": [
        "mgc_predicted = np.fromfile(dir_output + '000990_DNN_predicted_PCA_whisper.mgc', dtype=np.float32).reshape(-1, order + 1)\n",
        "logH_predicted = pysptk.mgc2sp(np.float64(mgc_predicted), 0.0, 0.0, frameLength).real\n",
        "display.specshow(logH_predicted.T, sr=Fs, hop_length=frameShift, x_axis=\"time\", y_axis=\"linear\")"
      ],
      "execution_count": 0,
      "outputs": []
    },
    {
      "metadata": {
        "id": "ThPXlFH1dEp-",
        "colab_type": "code",
        "colab": {}
      },
      "cell_type": "code",
      "source": [
        ""
      ],
      "execution_count": 0,
      "outputs": []
    }
  ]
}